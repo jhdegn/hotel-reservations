{
 "cells": [
  {
   "cell_type": "markdown",
   "metadata": {},
   "source": [
    "# Welcome to our Analysis of Hotel Reservations"
   ]
  },
  {
   "cell_type": "code",
   "execution_count": 26,
   "metadata": {},
   "outputs": [],
   "source": [
    "# Let's start by importing any necessary packages\n",
    "\n",
    "import pandas as pd\n",
    "import numpy as np\n",
    "import matplotlib.pyplot as plt\n",
    "\n",
    "# import packages for cleaning and organizing data\n",
    "from sklearn.model_selection import cross_val_score, train_test_split\n",
    "# import model packages\n",
    "from sklearn.naive_bayes import MultinomialNB\n",
    "from sklearn.tree import DecisionTreeClassifier\n",
    "from sklearn.neighbors import KNeighborsClassifier\n",
    "from sklearn.linear_model import LogisticRegression\n",
    "from sklearn.ensemble import BaggingClassifier, RandomForestClassifier, GradientBoostingClassifier\n",
    "# import need metrics\n",
    "from sklearn.metrics import confusion_matrix, roc_auc_score, roc_curve, f1_score\n",
    "from sklearn import metrics\n",
    "from sklearn.inspection import permutation_importance\n",
    "from sklearn.pipeline import Pipeline\n",
    "from sklearn.preprocessing import StandardScaler, PolynomialFeatures, MinMaxScaler\n",
    "from sklearn.decomposition import PCA"
   ]
  },
  {
   "cell_type": "markdown",
   "metadata": {},
   "source": [
    "# Step 1\n",
    "Load, clean, assess, and organize the data in preperation for further analysis"
   ]
  },
  {
   "cell_type": "code",
   "execution_count": 2,
   "metadata": {},
   "outputs": [],
   "source": [
    "# Now lets load the data \n",
    "hotelDF = pd.read_csv('https://raw.githubusercontent.com/rfordatascience/tidytuesday/master/data/2020/2020-02-11/hotels.csv')\n",
    "\n",
    "# here is the url to look at the data explanation\n",
    "# https://github.com/rfordatascience/tidytuesday/tree/master/data/2020/2020-02-11"
   ]
  },
  {
   "cell_type": "code",
   "execution_count": 3,
   "metadata": {},
   "outputs": [
    {
     "name": "stdout",
     "output_type": "stream",
     "text": [
      "Index(['hotel', 'is_canceled', 'lead_time', 'arrival_date_year',\n",
      "       'arrival_date_month', 'arrival_date_week_number',\n",
      "       'arrival_date_day_of_month', 'stays_in_weekend_nights',\n",
      "       'stays_in_week_nights', 'adults', 'children', 'babies', 'meal',\n",
      "       'country', 'market_segment', 'distribution_channel',\n",
      "       'is_repeated_guest', 'previous_cancellations',\n",
      "       'previous_bookings_not_canceled', 'reserved_room_type',\n",
      "       'assigned_room_type', 'booking_changes', 'deposit_type', 'agent',\n",
      "       'company', 'days_in_waiting_list', 'customer_type', 'adr',\n",
      "       'required_car_parking_spaces', 'total_of_special_requests',\n",
      "       'reservation_status', 'reservation_status_date'],\n",
      "      dtype='object')\n"
     ]
    },
    {
     "data": {
      "text/html": [
       "<div>\n",
       "<style scoped>\n",
       "    .dataframe tbody tr th:only-of-type {\n",
       "        vertical-align: middle;\n",
       "    }\n",
       "\n",
       "    .dataframe tbody tr th {\n",
       "        vertical-align: top;\n",
       "    }\n",
       "\n",
       "    .dataframe thead th {\n",
       "        text-align: right;\n",
       "    }\n",
       "</style>\n",
       "<table border=\"1\" class=\"dataframe\">\n",
       "  <thead>\n",
       "    <tr style=\"text-align: right;\">\n",
       "      <th></th>\n",
       "      <th>hotel</th>\n",
       "      <th>is_canceled</th>\n",
       "      <th>lead_time</th>\n",
       "      <th>arrival_date_year</th>\n",
       "      <th>arrival_date_month</th>\n",
       "      <th>arrival_date_week_number</th>\n",
       "      <th>arrival_date_day_of_month</th>\n",
       "      <th>stays_in_weekend_nights</th>\n",
       "      <th>stays_in_week_nights</th>\n",
       "      <th>adults</th>\n",
       "      <th>...</th>\n",
       "      <th>deposit_type</th>\n",
       "      <th>agent</th>\n",
       "      <th>company</th>\n",
       "      <th>days_in_waiting_list</th>\n",
       "      <th>customer_type</th>\n",
       "      <th>adr</th>\n",
       "      <th>required_car_parking_spaces</th>\n",
       "      <th>total_of_special_requests</th>\n",
       "      <th>reservation_status</th>\n",
       "      <th>reservation_status_date</th>\n",
       "    </tr>\n",
       "  </thead>\n",
       "  <tbody>\n",
       "    <tr>\n",
       "      <th>0</th>\n",
       "      <td>Resort Hotel</td>\n",
       "      <td>0</td>\n",
       "      <td>342</td>\n",
       "      <td>2015</td>\n",
       "      <td>July</td>\n",
       "      <td>27</td>\n",
       "      <td>1</td>\n",
       "      <td>0</td>\n",
       "      <td>0</td>\n",
       "      <td>2</td>\n",
       "      <td>...</td>\n",
       "      <td>No Deposit</td>\n",
       "      <td>NaN</td>\n",
       "      <td>NaN</td>\n",
       "      <td>0</td>\n",
       "      <td>Transient</td>\n",
       "      <td>0.0</td>\n",
       "      <td>0</td>\n",
       "      <td>0</td>\n",
       "      <td>Check-Out</td>\n",
       "      <td>2015-07-01</td>\n",
       "    </tr>\n",
       "    <tr>\n",
       "      <th>1</th>\n",
       "      <td>Resort Hotel</td>\n",
       "      <td>0</td>\n",
       "      <td>737</td>\n",
       "      <td>2015</td>\n",
       "      <td>July</td>\n",
       "      <td>27</td>\n",
       "      <td>1</td>\n",
       "      <td>0</td>\n",
       "      <td>0</td>\n",
       "      <td>2</td>\n",
       "      <td>...</td>\n",
       "      <td>No Deposit</td>\n",
       "      <td>NaN</td>\n",
       "      <td>NaN</td>\n",
       "      <td>0</td>\n",
       "      <td>Transient</td>\n",
       "      <td>0.0</td>\n",
       "      <td>0</td>\n",
       "      <td>0</td>\n",
       "      <td>Check-Out</td>\n",
       "      <td>2015-07-01</td>\n",
       "    </tr>\n",
       "    <tr>\n",
       "      <th>2</th>\n",
       "      <td>Resort Hotel</td>\n",
       "      <td>0</td>\n",
       "      <td>7</td>\n",
       "      <td>2015</td>\n",
       "      <td>July</td>\n",
       "      <td>27</td>\n",
       "      <td>1</td>\n",
       "      <td>0</td>\n",
       "      <td>1</td>\n",
       "      <td>1</td>\n",
       "      <td>...</td>\n",
       "      <td>No Deposit</td>\n",
       "      <td>NaN</td>\n",
       "      <td>NaN</td>\n",
       "      <td>0</td>\n",
       "      <td>Transient</td>\n",
       "      <td>75.0</td>\n",
       "      <td>0</td>\n",
       "      <td>0</td>\n",
       "      <td>Check-Out</td>\n",
       "      <td>2015-07-02</td>\n",
       "    </tr>\n",
       "    <tr>\n",
       "      <th>3</th>\n",
       "      <td>Resort Hotel</td>\n",
       "      <td>0</td>\n",
       "      <td>13</td>\n",
       "      <td>2015</td>\n",
       "      <td>July</td>\n",
       "      <td>27</td>\n",
       "      <td>1</td>\n",
       "      <td>0</td>\n",
       "      <td>1</td>\n",
       "      <td>1</td>\n",
       "      <td>...</td>\n",
       "      <td>No Deposit</td>\n",
       "      <td>304.0</td>\n",
       "      <td>NaN</td>\n",
       "      <td>0</td>\n",
       "      <td>Transient</td>\n",
       "      <td>75.0</td>\n",
       "      <td>0</td>\n",
       "      <td>0</td>\n",
       "      <td>Check-Out</td>\n",
       "      <td>2015-07-02</td>\n",
       "    </tr>\n",
       "    <tr>\n",
       "      <th>4</th>\n",
       "      <td>Resort Hotel</td>\n",
       "      <td>0</td>\n",
       "      <td>14</td>\n",
       "      <td>2015</td>\n",
       "      <td>July</td>\n",
       "      <td>27</td>\n",
       "      <td>1</td>\n",
       "      <td>0</td>\n",
       "      <td>2</td>\n",
       "      <td>2</td>\n",
       "      <td>...</td>\n",
       "      <td>No Deposit</td>\n",
       "      <td>240.0</td>\n",
       "      <td>NaN</td>\n",
       "      <td>0</td>\n",
       "      <td>Transient</td>\n",
       "      <td>98.0</td>\n",
       "      <td>0</td>\n",
       "      <td>1</td>\n",
       "      <td>Check-Out</td>\n",
       "      <td>2015-07-03</td>\n",
       "    </tr>\n",
       "  </tbody>\n",
       "</table>\n",
       "<p>5 rows × 32 columns</p>\n",
       "</div>"
      ],
      "text/plain": [
       "          hotel  is_canceled  lead_time  arrival_date_year arrival_date_month  \\\n",
       "0  Resort Hotel            0        342               2015               July   \n",
       "1  Resort Hotel            0        737               2015               July   \n",
       "2  Resort Hotel            0          7               2015               July   \n",
       "3  Resort Hotel            0         13               2015               July   \n",
       "4  Resort Hotel            0         14               2015               July   \n",
       "\n",
       "   arrival_date_week_number  arrival_date_day_of_month  \\\n",
       "0                        27                          1   \n",
       "1                        27                          1   \n",
       "2                        27                          1   \n",
       "3                        27                          1   \n",
       "4                        27                          1   \n",
       "\n",
       "   stays_in_weekend_nights  stays_in_week_nights  adults  ...  deposit_type  \\\n",
       "0                        0                     0       2  ...    No Deposit   \n",
       "1                        0                     0       2  ...    No Deposit   \n",
       "2                        0                     1       1  ...    No Deposit   \n",
       "3                        0                     1       1  ...    No Deposit   \n",
       "4                        0                     2       2  ...    No Deposit   \n",
       "\n",
       "   agent company days_in_waiting_list customer_type   adr  \\\n",
       "0    NaN     NaN                    0     Transient   0.0   \n",
       "1    NaN     NaN                    0     Transient   0.0   \n",
       "2    NaN     NaN                    0     Transient  75.0   \n",
       "3  304.0     NaN                    0     Transient  75.0   \n",
       "4  240.0     NaN                    0     Transient  98.0   \n",
       "\n",
       "   required_car_parking_spaces  total_of_special_requests  reservation_status  \\\n",
       "0                            0                          0           Check-Out   \n",
       "1                            0                          0           Check-Out   \n",
       "2                            0                          0           Check-Out   \n",
       "3                            0                          0           Check-Out   \n",
       "4                            0                          1           Check-Out   \n",
       "\n",
       "  reservation_status_date  \n",
       "0              2015-07-01  \n",
       "1              2015-07-01  \n",
       "2              2015-07-02  \n",
       "3              2015-07-02  \n",
       "4              2015-07-03  \n",
       "\n",
       "[5 rows x 32 columns]"
      ]
     },
     "execution_count": 3,
     "metadata": {},
     "output_type": "execute_result"
    }
   ],
   "source": [
    "print(hotelDF.columns)\n",
    "hotelDF.head()"
   ]
  },
  {
   "cell_type": "code",
   "execution_count": 4,
   "metadata": {},
   "outputs": [],
   "source": [
    "# What are some possible opportunities for feature engineering with our data"
   ]
  },
  {
   "cell_type": "code",
   "execution_count": 5,
   "metadata": {},
   "outputs": [],
   "source": [
    "# is the reserved room type the same as the assigned room type?\n"
   ]
  },
  {
   "cell_type": "code",
   "execution_count": null,
   "metadata": {},
   "outputs": [],
   "source": []
  },
  {
   "cell_type": "code",
   "execution_count": 6,
   "metadata": {},
   "outputs": [],
   "source": [
    "# Now that we have our data, lets go ahead and do some exploratory analysis"
   ]
  },
  {
   "cell_type": "code",
   "execution_count": 7,
   "metadata": {},
   "outputs": [
    {
     "name": "stdout",
     "output_type": "stream",
     "text": [
      "0.06\n"
     ]
    },
    {
     "data": {
      "text/plain": [
       "0.25"
      ]
     },
     "execution_count": 7,
     "metadata": {},
     "output_type": "execute_result"
    }
   ],
   "source": [
    "# mean and standard deviation for all numeric variables\n",
    "myColumn = 'required_car_parking_spaces'\n",
    "print(round(hotelDF[myColumn].mean(), 2))\n",
    "round(hotelDF[myColumn].std(), 2)"
   ]
  },
  {
   "cell_type": "code",
   "execution_count": 8,
   "metadata": {},
   "outputs": [
    {
     "data": {
      "text/plain": [
       "Check-Out    75166\n",
       "Canceled     43017\n",
       "No-Show       1207\n",
       "Name: reservation_status, dtype: int64"
      ]
     },
     "execution_count": 8,
     "metadata": {},
     "output_type": "execute_result"
    }
   ],
   "source": [
    "# identifying value counts for non-numeric variables\n",
    "myColumn = 'reservation_status'\n",
    "hotelDF[myColumn].value_counts().head(15)"
   ]
  },
  {
   "cell_type": "code",
   "execution_count": 9,
   "metadata": {},
   "outputs": [
    {
     "data": {
      "text/plain": [
       "array(['No Deposit', 'Refundable', 'Non Refund'], dtype=object)"
      ]
     },
     "execution_count": 9,
     "metadata": {},
     "output_type": "execute_result"
    }
   ],
   "source": [
    "hotelDF['deposit_type'].unique()"
   ]
  },
  {
   "cell_type": "code",
   "execution_count": 10,
   "metadata": {},
   "outputs": [
    {
     "data": {
      "text/plain": [
       "array(['Transient', 'Contract', 'Transient-Party', 'Group'], dtype=object)"
      ]
     },
     "execution_count": 10,
     "metadata": {},
     "output_type": "execute_result"
    }
   ],
   "source": [
    "hotelDF['customer_type'].unique()"
   ]
  },
  {
   "cell_type": "code",
   "execution_count": 11,
   "metadata": {},
   "outputs": [
    {
     "data": {
      "text/plain": [
       "array(['Check-Out', 'Canceled', 'No-Show'], dtype=object)"
      ]
     },
     "execution_count": 11,
     "metadata": {},
     "output_type": "execute_result"
    }
   ],
   "source": [
    "hotelDF['reservation_status'].unique()"
   ]
  },
  {
   "cell_type": "code",
   "execution_count": 12,
   "metadata": {},
   "outputs": [],
   "source": [
    "# choose columns that I want to use\n",
    "myDF= hotelDF[['hotel', 'lead_time', 'arrival_date_year',\n",
    "       'arrival_date_month', 'arrival_date_week_number',\n",
    "       'arrival_date_day_of_month', 'stays_in_weekend_nights',\n",
    "       'stays_in_week_nights', 'adults', 'children', 'babies', 'meal',\n",
    "       'country', 'market_segment', 'distribution_channel',\n",
    "       'is_repeated_guest', 'previous_cancellations',\n",
    "       'previous_bookings_not_canceled', 'reserved_room_type',\n",
    "       'assigned_room_type', 'booking_changes', 'deposit_type','days_in_waiting_list', 'customer_type', 'adr',\n",
    "       'required_car_parking_spaces', 'total_of_special_requests',\n",
    "       'reservation_status']]"
   ]
  },
  {
   "cell_type": "code",
   "execution_count": 13,
   "metadata": {},
   "outputs": [
    {
     "data": {
      "text/html": [
       "<div>\n",
       "<style scoped>\n",
       "    .dataframe tbody tr th:only-of-type {\n",
       "        vertical-align: middle;\n",
       "    }\n",
       "\n",
       "    .dataframe tbody tr th {\n",
       "        vertical-align: top;\n",
       "    }\n",
       "\n",
       "    .dataframe thead th {\n",
       "        text-align: right;\n",
       "    }\n",
       "</style>\n",
       "<table border=\"1\" class=\"dataframe\">\n",
       "  <thead>\n",
       "    <tr style=\"text-align: right;\">\n",
       "      <th></th>\n",
       "      <th>hotel</th>\n",
       "      <th>lead_time</th>\n",
       "      <th>arrival_date_year</th>\n",
       "      <th>arrival_date_month</th>\n",
       "      <th>arrival_date_week_number</th>\n",
       "      <th>arrival_date_day_of_month</th>\n",
       "      <th>stays_in_weekend_nights</th>\n",
       "      <th>stays_in_week_nights</th>\n",
       "      <th>adults</th>\n",
       "      <th>children</th>\n",
       "      <th>...</th>\n",
       "      <th>reserved_room_type</th>\n",
       "      <th>assigned_room_type</th>\n",
       "      <th>booking_changes</th>\n",
       "      <th>deposit_type</th>\n",
       "      <th>days_in_waiting_list</th>\n",
       "      <th>customer_type</th>\n",
       "      <th>adr</th>\n",
       "      <th>required_car_parking_spaces</th>\n",
       "      <th>total_of_special_requests</th>\n",
       "      <th>reservation_status</th>\n",
       "    </tr>\n",
       "  </thead>\n",
       "  <tbody>\n",
       "    <tr>\n",
       "      <th>0</th>\n",
       "      <td>Resort Hotel</td>\n",
       "      <td>342</td>\n",
       "      <td>2015</td>\n",
       "      <td>July</td>\n",
       "      <td>27</td>\n",
       "      <td>1</td>\n",
       "      <td>0</td>\n",
       "      <td>0</td>\n",
       "      <td>2</td>\n",
       "      <td>0.0</td>\n",
       "      <td>...</td>\n",
       "      <td>C</td>\n",
       "      <td>C</td>\n",
       "      <td>3</td>\n",
       "      <td>No Deposit</td>\n",
       "      <td>0</td>\n",
       "      <td>Transient</td>\n",
       "      <td>0.0</td>\n",
       "      <td>0</td>\n",
       "      <td>0</td>\n",
       "      <td>Check-Out</td>\n",
       "    </tr>\n",
       "    <tr>\n",
       "      <th>1</th>\n",
       "      <td>Resort Hotel</td>\n",
       "      <td>737</td>\n",
       "      <td>2015</td>\n",
       "      <td>July</td>\n",
       "      <td>27</td>\n",
       "      <td>1</td>\n",
       "      <td>0</td>\n",
       "      <td>0</td>\n",
       "      <td>2</td>\n",
       "      <td>0.0</td>\n",
       "      <td>...</td>\n",
       "      <td>C</td>\n",
       "      <td>C</td>\n",
       "      <td>4</td>\n",
       "      <td>No Deposit</td>\n",
       "      <td>0</td>\n",
       "      <td>Transient</td>\n",
       "      <td>0.0</td>\n",
       "      <td>0</td>\n",
       "      <td>0</td>\n",
       "      <td>Check-Out</td>\n",
       "    </tr>\n",
       "    <tr>\n",
       "      <th>2</th>\n",
       "      <td>Resort Hotel</td>\n",
       "      <td>7</td>\n",
       "      <td>2015</td>\n",
       "      <td>July</td>\n",
       "      <td>27</td>\n",
       "      <td>1</td>\n",
       "      <td>0</td>\n",
       "      <td>1</td>\n",
       "      <td>1</td>\n",
       "      <td>0.0</td>\n",
       "      <td>...</td>\n",
       "      <td>A</td>\n",
       "      <td>C</td>\n",
       "      <td>0</td>\n",
       "      <td>No Deposit</td>\n",
       "      <td>0</td>\n",
       "      <td>Transient</td>\n",
       "      <td>75.0</td>\n",
       "      <td>0</td>\n",
       "      <td>0</td>\n",
       "      <td>Check-Out</td>\n",
       "    </tr>\n",
       "    <tr>\n",
       "      <th>3</th>\n",
       "      <td>Resort Hotel</td>\n",
       "      <td>13</td>\n",
       "      <td>2015</td>\n",
       "      <td>July</td>\n",
       "      <td>27</td>\n",
       "      <td>1</td>\n",
       "      <td>0</td>\n",
       "      <td>1</td>\n",
       "      <td>1</td>\n",
       "      <td>0.0</td>\n",
       "      <td>...</td>\n",
       "      <td>A</td>\n",
       "      <td>A</td>\n",
       "      <td>0</td>\n",
       "      <td>No Deposit</td>\n",
       "      <td>0</td>\n",
       "      <td>Transient</td>\n",
       "      <td>75.0</td>\n",
       "      <td>0</td>\n",
       "      <td>0</td>\n",
       "      <td>Check-Out</td>\n",
       "    </tr>\n",
       "    <tr>\n",
       "      <th>4</th>\n",
       "      <td>Resort Hotel</td>\n",
       "      <td>14</td>\n",
       "      <td>2015</td>\n",
       "      <td>July</td>\n",
       "      <td>27</td>\n",
       "      <td>1</td>\n",
       "      <td>0</td>\n",
       "      <td>2</td>\n",
       "      <td>2</td>\n",
       "      <td>0.0</td>\n",
       "      <td>...</td>\n",
       "      <td>A</td>\n",
       "      <td>A</td>\n",
       "      <td>0</td>\n",
       "      <td>No Deposit</td>\n",
       "      <td>0</td>\n",
       "      <td>Transient</td>\n",
       "      <td>98.0</td>\n",
       "      <td>0</td>\n",
       "      <td>1</td>\n",
       "      <td>Check-Out</td>\n",
       "    </tr>\n",
       "  </tbody>\n",
       "</table>\n",
       "<p>5 rows × 28 columns</p>\n",
       "</div>"
      ],
      "text/plain": [
       "          hotel  lead_time  arrival_date_year arrival_date_month  \\\n",
       "0  Resort Hotel        342               2015               July   \n",
       "1  Resort Hotel        737               2015               July   \n",
       "2  Resort Hotel          7               2015               July   \n",
       "3  Resort Hotel         13               2015               July   \n",
       "4  Resort Hotel         14               2015               July   \n",
       "\n",
       "   arrival_date_week_number  arrival_date_day_of_month  \\\n",
       "0                        27                          1   \n",
       "1                        27                          1   \n",
       "2                        27                          1   \n",
       "3                        27                          1   \n",
       "4                        27                          1   \n",
       "\n",
       "   stays_in_weekend_nights  stays_in_week_nights  adults  children  ...  \\\n",
       "0                        0                     0       2       0.0  ...   \n",
       "1                        0                     0       2       0.0  ...   \n",
       "2                        0                     1       1       0.0  ...   \n",
       "3                        0                     1       1       0.0  ...   \n",
       "4                        0                     2       2       0.0  ...   \n",
       "\n",
       "   reserved_room_type assigned_room_type booking_changes deposit_type  \\\n",
       "0                   C                  C               3   No Deposit   \n",
       "1                   C                  C               4   No Deposit   \n",
       "2                   A                  C               0   No Deposit   \n",
       "3                   A                  A               0   No Deposit   \n",
       "4                   A                  A               0   No Deposit   \n",
       "\n",
       "  days_in_waiting_list  customer_type   adr  required_car_parking_spaces  \\\n",
       "0                    0      Transient   0.0                            0   \n",
       "1                    0      Transient   0.0                            0   \n",
       "2                    0      Transient  75.0                            0   \n",
       "3                    0      Transient  75.0                            0   \n",
       "4                    0      Transient  98.0                            0   \n",
       "\n",
       "  total_of_special_requests reservation_status  \n",
       "0                         0          Check-Out  \n",
       "1                         0          Check-Out  \n",
       "2                         0          Check-Out  \n",
       "3                         0          Check-Out  \n",
       "4                         1          Check-Out  \n",
       "\n",
       "[5 rows x 28 columns]"
      ]
     },
     "execution_count": 13,
     "metadata": {},
     "output_type": "execute_result"
    }
   ],
   "source": [
    "myDF.head()"
   ]
  },
  {
   "cell_type": "code",
   "execution_count": 14,
   "metadata": {},
   "outputs": [
    {
     "name": "stdout",
     "output_type": "stream",
     "text": [
      "119390\n",
      "118898\n"
     ]
    },
    {
     "name": "stderr",
     "output_type": "stream",
     "text": [
      "C:\\Users\\jhdeg\\anaconda3\\lib\\site-packages\\ipykernel_launcher.py:3: SettingWithCopyWarning: \n",
      "A value is trying to be set on a copy of a slice from a DataFrame\n",
      "\n",
      "See the caveats in the documentation: https://pandas.pydata.org/pandas-docs/stable/user_guide/indexing.html#returning-a-view-versus-a-copy\n",
      "  This is separate from the ipykernel package so we can avoid doing imports until\n"
     ]
    }
   ],
   "source": [
    "# remove NA values\n",
    "print(len(myDF.index))\n",
    "myDF.dropna(axis=0, inplace = True)\n",
    "print(len(myDF.index))"
   ]
  },
  {
   "cell_type": "code",
   "execution_count": 15,
   "metadata": {},
   "outputs": [
    {
     "data": {
      "text/plain": [
       "0    Check-Out\n",
       "1    Check-Out\n",
       "2    Check-Out\n",
       "3    Check-Out\n",
       "4    Check-Out\n",
       "Name: reservation_status, dtype: object"
      ]
     },
     "execution_count": 15,
     "metadata": {},
     "output_type": "execute_result"
    }
   ],
   "source": [
    "# turn my target column into its own DF\n",
    "myY = myDF['reservation_status']\n",
    "myY.head()"
   ]
  },
  {
   "cell_type": "code",
   "execution_count": 16,
   "metadata": {},
   "outputs": [
    {
     "data": {
      "text/html": [
       "<div>\n",
       "<style scoped>\n",
       "    .dataframe tbody tr th:only-of-type {\n",
       "        vertical-align: middle;\n",
       "    }\n",
       "\n",
       "    .dataframe tbody tr th {\n",
       "        vertical-align: top;\n",
       "    }\n",
       "\n",
       "    .dataframe thead th {\n",
       "        text-align: right;\n",
       "    }\n",
       "</style>\n",
       "<table border=\"1\" class=\"dataframe\">\n",
       "  <thead>\n",
       "    <tr style=\"text-align: right;\">\n",
       "      <th></th>\n",
       "      <th>lead_time</th>\n",
       "      <th>arrival_date_year</th>\n",
       "      <th>arrival_date_week_number</th>\n",
       "      <th>arrival_date_day_of_month</th>\n",
       "      <th>stays_in_weekend_nights</th>\n",
       "      <th>stays_in_week_nights</th>\n",
       "      <th>adults</th>\n",
       "      <th>children</th>\n",
       "      <th>babies</th>\n",
       "      <th>is_repeated_guest</th>\n",
       "      <th>...</th>\n",
       "      <th>assigned_room_type_H</th>\n",
       "      <th>assigned_room_type_I</th>\n",
       "      <th>assigned_room_type_K</th>\n",
       "      <th>assigned_room_type_L</th>\n",
       "      <th>assigned_room_type_P</th>\n",
       "      <th>deposit_type_Non Refund</th>\n",
       "      <th>deposit_type_Refundable</th>\n",
       "      <th>customer_type_Group</th>\n",
       "      <th>customer_type_Transient</th>\n",
       "      <th>customer_type_Transient-Party</th>\n",
       "    </tr>\n",
       "  </thead>\n",
       "  <tbody>\n",
       "    <tr>\n",
       "      <th>0</th>\n",
       "      <td>342</td>\n",
       "      <td>2015</td>\n",
       "      <td>27</td>\n",
       "      <td>1</td>\n",
       "      <td>0</td>\n",
       "      <td>0</td>\n",
       "      <td>2</td>\n",
       "      <td>0.0</td>\n",
       "      <td>0</td>\n",
       "      <td>0</td>\n",
       "      <td>...</td>\n",
       "      <td>0</td>\n",
       "      <td>0</td>\n",
       "      <td>0</td>\n",
       "      <td>0</td>\n",
       "      <td>0</td>\n",
       "      <td>0</td>\n",
       "      <td>0</td>\n",
       "      <td>0</td>\n",
       "      <td>1</td>\n",
       "      <td>0</td>\n",
       "    </tr>\n",
       "    <tr>\n",
       "      <th>1</th>\n",
       "      <td>737</td>\n",
       "      <td>2015</td>\n",
       "      <td>27</td>\n",
       "      <td>1</td>\n",
       "      <td>0</td>\n",
       "      <td>0</td>\n",
       "      <td>2</td>\n",
       "      <td>0.0</td>\n",
       "      <td>0</td>\n",
       "      <td>0</td>\n",
       "      <td>...</td>\n",
       "      <td>0</td>\n",
       "      <td>0</td>\n",
       "      <td>0</td>\n",
       "      <td>0</td>\n",
       "      <td>0</td>\n",
       "      <td>0</td>\n",
       "      <td>0</td>\n",
       "      <td>0</td>\n",
       "      <td>1</td>\n",
       "      <td>0</td>\n",
       "    </tr>\n",
       "    <tr>\n",
       "      <th>2</th>\n",
       "      <td>7</td>\n",
       "      <td>2015</td>\n",
       "      <td>27</td>\n",
       "      <td>1</td>\n",
       "      <td>0</td>\n",
       "      <td>1</td>\n",
       "      <td>1</td>\n",
       "      <td>0.0</td>\n",
       "      <td>0</td>\n",
       "      <td>0</td>\n",
       "      <td>...</td>\n",
       "      <td>0</td>\n",
       "      <td>0</td>\n",
       "      <td>0</td>\n",
       "      <td>0</td>\n",
       "      <td>0</td>\n",
       "      <td>0</td>\n",
       "      <td>0</td>\n",
       "      <td>0</td>\n",
       "      <td>1</td>\n",
       "      <td>0</td>\n",
       "    </tr>\n",
       "    <tr>\n",
       "      <th>3</th>\n",
       "      <td>13</td>\n",
       "      <td>2015</td>\n",
       "      <td>27</td>\n",
       "      <td>1</td>\n",
       "      <td>0</td>\n",
       "      <td>1</td>\n",
       "      <td>1</td>\n",
       "      <td>0.0</td>\n",
       "      <td>0</td>\n",
       "      <td>0</td>\n",
       "      <td>...</td>\n",
       "      <td>0</td>\n",
       "      <td>0</td>\n",
       "      <td>0</td>\n",
       "      <td>0</td>\n",
       "      <td>0</td>\n",
       "      <td>0</td>\n",
       "      <td>0</td>\n",
       "      <td>0</td>\n",
       "      <td>1</td>\n",
       "      <td>0</td>\n",
       "    </tr>\n",
       "    <tr>\n",
       "      <th>4</th>\n",
       "      <td>14</td>\n",
       "      <td>2015</td>\n",
       "      <td>27</td>\n",
       "      <td>1</td>\n",
       "      <td>0</td>\n",
       "      <td>2</td>\n",
       "      <td>2</td>\n",
       "      <td>0.0</td>\n",
       "      <td>0</td>\n",
       "      <td>0</td>\n",
       "      <td>...</td>\n",
       "      <td>0</td>\n",
       "      <td>0</td>\n",
       "      <td>0</td>\n",
       "      <td>0</td>\n",
       "      <td>0</td>\n",
       "      <td>0</td>\n",
       "      <td>0</td>\n",
       "      <td>0</td>\n",
       "      <td>1</td>\n",
       "      <td>0</td>\n",
       "    </tr>\n",
       "  </tbody>\n",
       "</table>\n",
       "<p>5 rows × 244 columns</p>\n",
       "</div>"
      ],
      "text/plain": [
       "   lead_time  arrival_date_year  arrival_date_week_number  \\\n",
       "0        342               2015                        27   \n",
       "1        737               2015                        27   \n",
       "2          7               2015                        27   \n",
       "3         13               2015                        27   \n",
       "4         14               2015                        27   \n",
       "\n",
       "   arrival_date_day_of_month  stays_in_weekend_nights  stays_in_week_nights  \\\n",
       "0                          1                        0                     0   \n",
       "1                          1                        0                     0   \n",
       "2                          1                        0                     1   \n",
       "3                          1                        0                     1   \n",
       "4                          1                        0                     2   \n",
       "\n",
       "   adults  children  babies  is_repeated_guest  ...  assigned_room_type_H  \\\n",
       "0       2       0.0       0                  0  ...                     0   \n",
       "1       2       0.0       0                  0  ...                     0   \n",
       "2       1       0.0       0                  0  ...                     0   \n",
       "3       1       0.0       0                  0  ...                     0   \n",
       "4       2       0.0       0                  0  ...                     0   \n",
       "\n",
       "   assigned_room_type_I  assigned_room_type_K  assigned_room_type_L  \\\n",
       "0                     0                     0                     0   \n",
       "1                     0                     0                     0   \n",
       "2                     0                     0                     0   \n",
       "3                     0                     0                     0   \n",
       "4                     0                     0                     0   \n",
       "\n",
       "   assigned_room_type_P  deposit_type_Non Refund  deposit_type_Refundable  \\\n",
       "0                     0                        0                        0   \n",
       "1                     0                        0                        0   \n",
       "2                     0                        0                        0   \n",
       "3                     0                        0                        0   \n",
       "4                     0                        0                        0   \n",
       "\n",
       "   customer_type_Group  customer_type_Transient  customer_type_Transient-Party  \n",
       "0                    0                        1                              0  \n",
       "1                    0                        1                              0  \n",
       "2                    0                        1                              0  \n",
       "3                    0                        1                              0  \n",
       "4                    0                        1                              0  \n",
       "\n",
       "[5 rows x 244 columns]"
      ]
     },
     "execution_count": 16,
     "metadata": {},
     "output_type": "execute_result"
    }
   ],
   "source": [
    "# hot-shot columns -- get dummy variables for:\n",
    "# hotel\n",
    "# arrival_date_month\n",
    "# reserved_room_type \n",
    "# assigned_room_type\n",
    "# deposit_type\n",
    "# customer_type\n",
    "\n",
    "myX = myDF.drop(['reservation_status'], axis = 1)\n",
    "myX = pd.get_dummies(myX, drop_first=True)\n",
    "myX.head()\n",
    "\n"
   ]
  },
  {
   "cell_type": "code",
   "execution_count": 17,
   "metadata": {},
   "outputs": [
    {
     "name": "stdout",
     "output_type": "stream",
     "text": [
      "['Check-Out', 'Canceled', 'No-Show']\n",
      "[0 0 0 ... 0 0 0]\n",
      "{0, 1, 2}\n"
     ]
    }
   ],
   "source": [
    "myYs=myY.unique().tolist()\n",
    "print(myYs)\n",
    "imputer = np.vectorize(lambda x: myYs.index(x))\n",
    "myYNs = imputer(myY)\n",
    "print(myYNs)\n",
    "print(set(myYNs))"
   ]
  },
  {
   "cell_type": "code",
   "execution_count": 18,
   "metadata": {},
   "outputs": [],
   "source": [
    "# split into train test split\n",
    "X_train, X_test, y_train, y_test = train_test_split(myX, myY, stratify=myY, test_size = 0.25, random_state=801)"
   ]
  },
  {
   "cell_type": "markdown",
   "metadata": {},
   "source": [
    "# Step 2\n",
    "Try using several models to figure out which one works best"
   ]
  },
  {
   "cell_type": "code",
   "execution_count": 19,
   "metadata": {},
   "outputs": [
    {
     "data": {
      "text/plain": [
       "(89173, 244)"
      ]
     },
     "execution_count": 19,
     "metadata": {},
     "output_type": "execute_result"
    }
   ],
   "source": [
    "# Logistic Regression\n",
    "X_train.shape"
   ]
  },
  {
   "cell_type": "code",
   "execution_count": 20,
   "metadata": {},
   "outputs": [],
   "source": [
    "#Using PCA because it isn't converging\n",
    "#lr1 = Pipeline([(\"scale\",StandardScaler()),(\"pca\",PCA(0.9)),(\"scale2\",StandardScaler()),\n",
    "#                (\"log\",LogisticRegression(penalty=\"elasticnet\",solver=\"saga\",l1_ratio=0.5,random_state=569,max_iter=1000))])\n",
    "#lr1.fit(X_train,y_train)\n",
    "#\n",
    "#y_hat_lr1 = lr1.predict(X_test)\n",
    "#print(metrics.classification_report(y_test, y_hat_lr1))\n",
    "#Note: still not converging; skip (at least for now)"
   ]
  },
  {
   "cell_type": "code",
   "execution_count": null,
   "metadata": {},
   "outputs": [],
   "source": []
  },
  {
   "cell_type": "code",
   "execution_count": 39,
   "metadata": {},
   "outputs": [],
   "source": [
    "# KNN"
   ]
  },
  {
   "cell_type": "code",
   "execution_count": null,
   "metadata": {},
   "outputs": [],
   "source": [
    "kn1 = Pipeline([(\"scale\",StandardScaler()),(\"knn\",KNeighborsClassifier())])\n",
    "kn1.fit(X_train,y_train)\n",
    "\n",
    "y_hat_kn1 = kn1.predict(X_test)\n",
    "print(metrics.classification_report(y_test, y_hat_kn1))"
   ]
  },
  {
   "cell_type": "code",
   "execution_count": null,
   "metadata": {},
   "outputs": [],
   "source": [
    "#Used PCA to remove unnecessary columns, greatly reducing their number\n",
    "kn2 = Pipeline([(\"pca\",PCA(0.99)),(\"poly\",PolynomialFeatures(interaction_only=True)),(\"scale\",StandardScaler()),(\"knn\",KNeighborsClassifier())])\n",
    "kn2.fit(X_train,y_train)\n",
    "\n",
    "y_hat_kn2 = kn2.predict(X_test)\n",
    "print(metrics.classification_report(y_test, y_hat_kn2))"
   ]
  },
  {
   "cell_type": "code",
   "execution_count": null,
   "metadata": {},
   "outputs": [],
   "source": [
    "# Decision Trees"
   ]
  },
  {
   "cell_type": "code",
   "execution_count": 56,
   "metadata": {},
   "outputs": [
    {
     "name": "stdout",
     "output_type": "stream",
     "text": [
      "              precision    recall  f1-score   support\n",
      "\n",
      "    Canceled       0.79      0.80      0.80     10738\n",
      "   Check-Out       0.88      0.88      0.88     18686\n",
      "     No-Show       0.29      0.26      0.27       301\n",
      "\n",
      "    accuracy                           0.84     29725\n",
      "   macro avg       0.65      0.64      0.65     29725\n",
      "weighted avg       0.84      0.84      0.84     29725\n",
      "\n"
     ]
    }
   ],
   "source": [
    "dt1 = DecisionTreeClassifier()\n",
    "dt1.fit(X_train,y_train)\n",
    "\n",
    "y_hat_dt1 = dt1.predict(X_test)\n",
    "print(metrics.classification_report(y_test, y_hat_dt1))"
   ]
  },
  {
   "cell_type": "code",
   "execution_count": 58,
   "metadata": {},
   "outputs": [
    {
     "name": "stdout",
     "output_type": "stream",
     "text": [
      "              precision    recall  f1-score   support\n",
      "\n",
      "    Canceled       0.79      0.80      0.79     10738\n",
      "   Check-Out       0.88      0.88      0.88     18686\n",
      "     No-Show       0.41      0.19      0.26       301\n",
      "\n",
      "    accuracy                           0.84     29725\n",
      "   macro avg       0.69      0.62      0.64     29725\n",
      "weighted avg       0.84      0.84      0.84     29725\n",
      "\n"
     ]
    }
   ],
   "source": [
    "dt3 = DecisionTreeClassifier(min_samples_leaf=3)\n",
    "dt3.fit(X_train,y_train)\n",
    "\n",
    "y_hat_dt3 = dt3.predict(X_test)\n",
    "print(metrics.classification_report(y_test, y_hat_dt3))"
   ]
  },
  {
   "cell_type": "code",
   "execution_count": null,
   "metadata": {},
   "outputs": [],
   "source": [
    "# Multinomal naive bayes"
   ]
  },
  {
   "cell_type": "code",
   "execution_count": 59,
   "metadata": {},
   "outputs": [
    {
     "name": "stdout",
     "output_type": "stream",
     "text": [
      "              precision    recall  f1-score   support\n",
      "\n",
      "    Canceled       0.52      0.52      0.52     10738\n",
      "   Check-Out       0.65      0.20      0.30     18686\n",
      "     No-Show       0.01      0.65      0.03       301\n",
      "\n",
      "    accuracy                           0.32     29725\n",
      "   macro avg       0.40      0.46      0.28     29725\n",
      "weighted avg       0.60      0.32      0.38     29725\n",
      "\n"
     ]
    }
   ],
   "source": [
    "nb1 = MultinomialNB()\n",
    "nb1.fit(X_train,y_train)\n",
    "\n",
    "y_hat_nb1 = nb1.predict(X_test)\n",
    "print(metrics.classification_report(y_test, y_hat_nb1))"
   ]
  },
  {
   "cell_type": "code",
   "execution_count": 65,
   "metadata": {},
   "outputs": [
    {
     "name": "stdout",
     "output_type": "stream",
     "text": [
      "              precision    recall  f1-score   support\n",
      "\n",
      "    Canceled       0.00      0.00      0.00     10738\n",
      "   Check-Out       0.63      1.00      0.77     18686\n",
      "     No-Show       0.00      0.00      0.00       301\n",
      "\n",
      "    accuracy                           0.63     29725\n",
      "   macro avg       0.21      0.33      0.26     29725\n",
      "weighted avg       0.40      0.63      0.49     29725\n",
      "\n"
     ]
    }
   ],
   "source": [
    "#PCA to reduce column number, minmaxscaler to make all values positive (MultinomialNB cannot accept negative inputs)\n",
    "nb2 = Pipeline([(\"pca\",PCA(0.99)),(\"scale\",MinMaxScaler()),(\"poly\",PolynomialFeatures()),(\"nb\",MultinomialNB())])\n",
    "nb2.fit(X_train,y_train)\n",
    "\n",
    "y_hat_nb2 = nb2.predict(X_test)\n",
    "print(metrics.classification_report(y_test, y_hat_nb2,zero_division=0))"
   ]
  },
  {
   "cell_type": "code",
   "execution_count": null,
   "metadata": {},
   "outputs": [],
   "source": [
    "# Random Forest"
   ]
  },
  {
   "cell_type": "code",
   "execution_count": 20,
   "metadata": {},
   "outputs": [
    {
     "name": "stdout",
     "output_type": "stream",
     "text": [
      "              precision    recall  f1-score   support\n",
      "\n",
      "    Canceled       0.89      0.81      0.84     10738\n",
      "   Check-Out       0.89      0.94      0.91     18686\n",
      "     No-Show       0.90      0.23      0.37       301\n",
      "\n",
      "    accuracy                           0.89     29725\n",
      "   macro avg       0.89      0.66      0.71     29725\n",
      "weighted avg       0.89      0.89      0.88     29725\n",
      "\n"
     ]
    }
   ],
   "source": [
    "rf1 = RandomForestClassifier(random_state=2457)\n",
    "rf1.fit(X_train,y_train)\n",
    "\n",
    "y_hat_rf1 = rf1.predict(X_test)\n",
    "print(metrics.classification_report(y_test, y_hat_rf1))"
   ]
  },
  {
   "cell_type": "code",
   "execution_count": 71,
   "metadata": {},
   "outputs": [
    {
     "name": "stdout",
     "output_type": "stream",
     "text": [
      "              precision    recall  f1-score   support\n",
      "\n",
      "    Canceled       0.79      0.66      0.72     10738\n",
      "   Check-Out       0.81      0.90      0.85     18686\n",
      "     No-Show       0.62      0.22      0.33       301\n",
      "\n",
      "    accuracy                           0.80     29725\n",
      "   macro avg       0.74      0.59      0.63     29725\n",
      "weighted avg       0.80      0.80      0.80     29725\n",
      "\n"
     ]
    }
   ],
   "source": [
    "rf2 = Pipeline([(\"pca\",PCA(0.99)),(\"poly\",PolynomialFeatures()),(\"rf\",RandomForestClassifier(random_state=2457))])\n",
    "rf2.fit(X_train,y_train)\n",
    "\n",
    "y_hat_rf2 = rf2.predict(X_test)\n",
    "print(metrics.classification_report(y_test, y_hat_rf2))"
   ]
  },
  {
   "cell_type": "code",
   "execution_count": null,
   "metadata": {},
   "outputs": [],
   "source": []
  },
  {
   "cell_type": "markdown",
   "metadata": {},
   "source": [
    "# Step 3\n",
    "Identify which variables were most influential in people cancelling or not showing up for their reservation"
   ]
  },
  {
   "cell_type": "code",
   "execution_count": null,
   "metadata": {},
   "outputs": [],
   "source": []
  },
  {
   "cell_type": "code",
   "execution_count": null,
   "metadata": {},
   "outputs": [],
   "source": [
    "# make new random forest for this part\n"
   ]
  },
  {
   "cell_type": "code",
   "execution_count": null,
   "metadata": {},
   "outputs": [],
   "source": []
  },
  {
   "cell_type": "code",
   "execution_count": 37,
   "metadata": {},
   "outputs": [],
   "source": [
    "# feature_importances_\n",
    "importances = rf1.feature_importances_.argsort()\n",
    "\n",
    "std = np.std([tree.feature_importances_ for tree in rf1.estimators_], axis=0)\n"
   ]
  },
  {
   "cell_type": "code",
   "execution_count": 30,
   "metadata": {
    "collapsed": true
   },
   "outputs": [
    {
     "data": {
      "text/plain": [
       "array([2.48328244e-02, 3.54362677e-03, 3.09542518e-03, 2.33586889e-03,\n",
       "       2.96826992e-03, 3.69332140e-03, 2.82094883e-03, 1.03971035e-03,\n",
       "       2.06730216e-04, 2.06980477e-03, 1.99467070e-02, 3.35556719e-03,\n",
       "       7.27679694e-03, 5.10639487e-03, 7.07158981e-03, 7.69151992e-03,\n",
       "       1.76765597e-02, 3.34946253e-03, 1.03034147e-03, 6.05554192e-04,\n",
       "       8.37110988e-04, 5.89006207e-04, 9.82540710e-04, 8.12089495e-04,\n",
       "       8.02581597e-04, 7.56744560e-04, 6.95577733e-04, 7.56847002e-04,\n",
       "       7.51497314e-04, 5.30104205e-04, 1.15733490e-03, 1.36163925e-03,\n",
       "       5.62814947e-04, 2.88887455e-04, 0.00000000e+00, 7.82529477e-06,\n",
       "       3.59369410e-05, 1.33385938e-04, 1.09280043e-04, 1.91706067e-05,\n",
       "       7.06071542e-06, 4.34626414e-06, 1.86479068e-05, 1.34261263e-04,\n",
       "       7.46365323e-04, 3.70804457e-05, 9.96797930e-06, 5.86203547e-04,\n",
       "       2.07911482e-05, 0.00000000e+00, 5.36438377e-05, 6.03865101e-05,\n",
       "       2.72194333e-05, 3.76408908e-06, 3.68264067e-05, 5.79090249e-05,\n",
       "       2.37387772e-05, 5.65745259e-04, 7.36878316e-06, 2.83470502e-06,\n",
       "       6.51612496e-06, 4.02707498e-04, 6.53320520e-05, 3.65873784e-04,\n",
       "       1.89608759e-05, 2.97901504e-05, 5.95319186e-04, 9.78772641e-05,\n",
       "       1.77676025e-05, 5.81471662e-05, 2.74888780e-05, 9.88540481e-06,\n",
       "       2.65308814e-07, 6.27570624e-05, 1.12900116e-04, 3.68617380e-03,\n",
       "       1.12123143e-05, 4.43087380e-06, 1.24405239e-04, 4.23811625e-05,\n",
       "       7.52781042e-05, 6.31907700e-05, 6.23827480e-05, 2.53517352e-03,\n",
       "       6.22760298e-05, 7.26333418e-06, 1.67472732e-04, 0.00000000e+00,\n",
       "       3.87305647e-03, 3.15557260e-05, 6.36947958e-06, 4.77005308e-03,\n",
       "       6.96786551e-05, 7.62740942e-06, 3.07973887e-05, 6.93189421e-05,\n",
       "       1.83812514e-05, 2.17349850e-05, 9.75319183e-05, 1.16473223e-05,\n",
       "       3.16286455e-07, 8.70453710e-05, 1.73908066e-05, 7.31470635e-05,\n",
       "       1.56009413e-04, 1.11916909e-04, 1.88275242e-05, 9.32250885e-05,\n",
       "       8.46442596e-04, 1.44342651e-04, 1.03122310e-05, 1.05887992e-04,\n",
       "       6.61480451e-04, 7.33110715e-04, 1.40648544e-05, 4.14960591e-05,\n",
       "       2.68049776e-05, 1.08860212e-04, 5.42604501e-05, 1.91759680e-05,\n",
       "       4.27472139e-06, 1.65975552e-05, 6.53351483e-06, 1.18970095e-04,\n",
       "       5.58085126e-05, 6.20369609e-06, 6.73576034e-05, 7.24146258e-06,\n",
       "       0.00000000e+00, 2.54555194e-05, 9.08199554e-06, 6.93237572e-05,\n",
       "       1.73564651e-04, 5.09381353e-05, 7.42784081e-05, 1.73479255e-04,\n",
       "       2.67251831e-05, 4.52473826e-07, 5.29292711e-05, 5.81659950e-05,\n",
       "       5.21354694e-05, 2.79386376e-06, 6.11201803e-05, 2.97526341e-07,\n",
       "       1.90828646e-05, 8.08291636e-05, 7.41009022e-06, 1.69272829e-05,\n",
       "       5.81194619e-08, 4.63972241e-05, 2.57450660e-05, 2.25163073e-05,\n",
       "       9.50778678e-06, 9.76568255e-05, 0.00000000e+00, 6.36673435e-04,\n",
       "       2.07111398e-04, 7.72838721e-06, 1.01839448e-04, 4.69796481e-05,\n",
       "       5.69619767e-05, 3.84430041e-05, 4.47881351e-05, 9.73858082e-05,\n",
       "       6.92465642e-06, 2.95417074e-04, 3.80856493e-05, 2.99244162e-02,\n",
       "       2.80207098e-05, 5.35720948e-06, 3.75624297e-05, 2.01874276e-04,\n",
       "       2.23315179e-04, 7.75135795e-06, 1.07910193e-04, 1.33809358e-06,\n",
       "       4.51327964e-05, 8.11903971e-05, 1.30353965e-05, 9.20812584e-06,\n",
       "       1.38191060e-06, 8.59364555e-05, 6.91952732e-07, 2.50458977e-05,\n",
       "       7.04720658e-05, 9.27587559e-05, 3.07533048e-04, 2.00931224e-07,\n",
       "       9.51677496e-06, 6.35490700e-06, 8.04833281e-05, 3.91703544e-05,\n",
       "       2.10221969e-05, 6.72277263e-05, 1.87671597e-04, 7.15587808e-05,\n",
       "       3.69434461e-05, 1.68461932e-05, 8.14581857e-05, 2.16481690e-05,\n",
       "       4.83500788e-05, 4.86680396e-04, 4.11830122e-05, 7.28336748e-05,\n",
       "       3.36070826e-06, 1.57698745e-05, 1.00407527e-04, 2.66473141e-05,\n",
       "       2.39144418e-05, 2.61250813e-04, 3.95239751e-03, 9.39476060e-03,\n",
       "       2.59768993e-02, 8.64912685e-03, 1.14321132e-02, 6.64332731e-03,\n",
       "       1.63601422e-04, 9.43596688e-03, 2.91914688e-06, 2.86570026e-04,\n",
       "       2.11694095e-04, 1.98401946e-03, 6.14988321e-04, 3.46369204e-04,\n",
       "       3.29786578e-04, 1.70292328e-04, 3.25321983e-05, 4.09166666e-05,\n",
       "       5.10861168e-04, 4.90946797e-04, 4.82588875e-03, 8.45339422e-04,\n",
       "       4.65954190e-04, 3.16352565e-04, 1.78505691e-04, 2.14273567e-04,\n",
       "       1.38460126e-04, 1.94655694e-05, 4.21677651e-05, 6.42081271e-02,\n",
       "       1.02731729e-04, 1.96576924e-04, 1.17749975e-02, 1.12984451e-02])"
      ]
     },
     "execution_count": 30,
     "metadata": {},
     "output_type": "execute_result"
    }
   ],
   "source": [
    "std"
   ]
  },
  {
   "cell_type": "code",
   "execution_count": 38,
   "metadata": {},
   "outputs": [
    {
     "data": {
      "text/plain": [
       "lead_time                        0.118406\n",
       "arrival_date_year                0.024175\n",
       "arrival_date_week_number         0.049856\n",
       "arrival_date_day_of_month        0.054920\n",
       "stays_in_weekend_nights          0.025790\n",
       "                                   ...   \n",
       "deposit_type_Non Refund          0.075739\n",
       "deposit_type_Refundable          0.000179\n",
       "customer_type_Group              0.000341\n",
       "customer_type_Transient          0.019226\n",
       "customer_type_Transient-Party    0.013309\n",
       "Length: 244, dtype: float64"
      ]
     },
     "execution_count": 38,
     "metadata": {},
     "output_type": "execute_result"
    }
   ],
   "source": [
    "forest_importances"
   ]
  },
  {
   "cell_type": "code",
   "execution_count": 29,
   "metadata": {},
   "outputs": [
    {
     "data": {
      "image/png": "[encoded data removed]",
      "text/plain": [
       "<Figure size 432x288 with 1 Axes>"
      ]
     },
     "metadata": {
      "needs_background": "light"
     },
     "output_type": "display_data"
    }
   ],
   "source": [
    "forest_importances = pd.Series(importances, index=X_train.columns)\n",
    "\n",
    "\n",
    "\n",
    "fig, ax = plt.subplots()\n",
    "forest_importances.plot.bar(yerr=std, ax=ax)\n",
    "ax.set_title(\"Feature importances using MDI\")\n",
    "ax.set_ylabel(\"Mean decrease in impurity\")\n",
    "fig.tight_layout()"
   ]
  }
 ],
 "metadata": {
  "kernelspec": {
   "display_name": "Python 3",
   "language": "python",
   "name": "python3"
  },
  "language_info": {
   "codemirror_mode": {
    "name": "ipython",
    "version": 3
   },
   "file_extension": ".py",
   "mimetype": "text/x-python",
   "name": "python",
   "nbconvert_exporter": "python",
   "pygments_lexer": "ipython3",
   "version": "3.7.6"
  }
 },
 "nbformat": 4,
 "nbformat_minor": 4
}
